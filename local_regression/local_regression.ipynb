{
 "cells": [
  {
   "cell_type": "markdown",
   "id": "industrial-struggle",
   "metadata": {},
   "source": [
    "<p style=\"font-size:30px; text-align:center\"><b>Local Regression</b></p>"
   ]
  },
  {
   "cell_type": "markdown",
   "id": "residential-office",
   "metadata": {},
   "source": [
    "<div style=\"text-align: right\">(C) <a href=\"https://github.com/niknow\">Nikolai Nowaczyk</a>, <a href=\"https://github.com/Lapsilago\">Jörg Kienitz</a> 2021</div>"
   ]
  },
  {
   "cell_type": "markdown",
   "id": "circular-automation",
   "metadata": {},
   "source": [
    "Local regression is a powerful enhancement of linear regression, which refines predictions by tailoring the hypothesis to each point of the prediction. In this notebook, we derive the mathematical framework, illustrate its practical use with some examples and compare with conventional linear regression."
   ]
  },
  {
   "cell_type": "code",
   "execution_count": 1,
   "id": "natural-circulation",
   "metadata": {},
   "outputs": [],
   "source": [
    "%load_ext autoreload\n",
    "%autoreload 2\n",
    "%matplotlib widget"
   ]
  },
  {
   "cell_type": "code",
   "execution_count": 2,
   "id": "ambient-conspiracy",
   "metadata": {},
   "outputs": [],
   "source": [
    "import numpy as np\n",
    "from sklearn.linear_model import LinearRegression\n",
    "from sklearn.preprocessing import PolynomialFeatures\n",
    "import matplotlib.pyplot as plt\n",
    "from mpl_toolkits import mplot3d\n",
    "from locreg import LocalRegression # supplied with library folder\n",
    "import ipywidgets as wdg"
   ]
  },
  {
   "cell_type": "code",
   "execution_count": 3,
   "id": "separate-robin",
   "metadata": {},
   "outputs": [],
   "source": [
    "# uncomment to support dark themes\n",
    "# plt.style.use(['dark_background'])"
   ]
  },
  {
   "cell_type": "markdown",
   "id": "lined-genealogy",
   "metadata": {},
   "source": [
    "# Linear Regression"
   ]
  },
  {
   "cell_type": "markdown",
   "id": "legislative-mason",
   "metadata": {},
   "source": [
    "In linear regression we are given a labelled data set $(x_i, y_i)$, $i=1, \\ldots, N$, $x_i \\in \\mathbb{R}^d$, $y_i \\in \\mathbb{R}$, and we assume that they are related via\n",
    "\\begin{align*}\n",
    "    y_i = f(x_i) + \\varepsilon_i,\n",
    "\\end{align*}\n",
    "where $\\varepsilon_i$ is a realization of a centered iid random variable called the *noise* and $f:\\mathbb{R}^d \\to \\mathbb{R}$ is a measurable function. Both, $f$ and $\\varepsilon_i$ are not known in practice. However, we will want to make predictions $f(x)$ for $x \\in \\mathbb{R}^d$.\n",
    "\n",
    "The idea of linear regression is to first extract potentially new features out of the input data by means of a feature map $\\Phi:\\mathbb{R}^d \\to \\mathbb{R}^k$, and then assume that the $\\Phi(x_i)$ are linearly related to the $y_i$, i.e. we form the *linear hypothesis*\n",
    "\\begin{align*}\n",
    "    f_{\\beta}(x) = \\Phi(x)^{\\top} \\beta,\n",
    "\\end{align*}\n",
    "for some coefficient vector $\\beta \\in \\mathbb{R}^k$. We fit the coefficients to the data by the *least squares method*, i.e. by \n",
    "\\begin{align*}\n",
    "    \\beta^* := \\operatorname{argmin}_{\\beta}{\\sum_{i=1}^N{\\|f_{\\beta}(x_i) - y_i\\|_2^2}}\n",
    "\\end{align*}\n",
    "If we collect all the inputs in the *design matrix* $X \\in \\mathbb{R}^{N \\times k}$, $X_{ij} := \\Phi_j(x_i)$, one can show that $\\beta^*$ can be computed from the *normal equations*\n",
    "\\begin{align*}\n",
    "    X^{\\top}X \\beta^* = X^{\\top} y.\n",
    "\\end{align*}\n",
    "Finally, new predictions can then be made by $f(x) := f_{\\beta^*}(x) = \\Phi(x)^{\\top} \\beta^*$."
   ]
  },
  {
   "cell_type": "markdown",
   "id": "fantastic-honolulu",
   "metadata": {},
   "source": [
    "## Example 1: Parabolic Fit"
   ]
  },
  {
   "cell_type": "markdown",
   "id": "honest-insulation",
   "metadata": {},
   "source": [
    "Let's illustrate these concepts with an easy synthetic example: We assume that the $x_i$ and $y_i$ are both scalar and that they are related by a polynomial $f$ of degree $2$."
   ]
  },
  {
   "cell_type": "code",
   "execution_count": 4,
   "id": "listed-nomination",
   "metadata": {},
   "outputs": [],
   "source": [
    "x = np.linspace(-1,1,100)  # generate the $x_i$\n",
    "np.random.seed(1)\n",
    "e = np.random.normal(0, 0.1, 100)  # generate $\\varepsilon_i$\n",
    "y = x**2 + e # generate $y_i$\n",
    "X = x[:,np.newaxis]  # convert to training set\n",
    "poly = PolynomialFeatures(degree=2, include_bias=False) # create the features $\\Phi(x_i)$\n",
    "phi = poly.fit_transform(X)\n",
    "reg = LinearRegression(fit_intercept=True).fit(phi,y)  # compute the fit"
   ]
  },
  {
   "cell_type": "code",
   "execution_count": 5,
   "id": "regular-memphis",
   "metadata": {},
   "outputs": [
    {
     "name": "stderr",
     "output_type": "stream",
     "text": [
      "D:\\Apps\\Anaconda3\\envs\\heroku\\lib\\site-packages\\matplotlib\\__init__.py:942: MatplotlibDeprecationWarning: nbagg.transparent is deprecated and ignored. Use figure.facecolor instead.\n",
      "  mplDeprecation)\n"
     ]
    },
    {
     "data": {
      "application/vnd.jupyter.widget-view+json": {
       "model_id": "efb96d9f53034cd8856e960d894c6d3d",
       "version_major": 2,
       "version_minor": 0
      },
      "text/plain": [
       "Canvas(toolbar=Toolbar(toolitems=[('Home', 'Reset original view', 'home', 'home'), ('Back', 'Back to  previous…"
      ]
     },
     "metadata": {},
     "output_type": "display_data"
    },
    {
     "name": "stdout",
     "output_type": "stream",
     "text": [
      "Score: 0.920228\n"
     ]
    }
   ],
   "source": [
    "fig_reg, ax_reg = plt.subplots()\n",
    "ax_reg.scatter(x, y, label='train', color='tab:blue')\n",
    "ax_reg.plot(x, x**2, label='truth', color='k')\n",
    "ax_reg.plot(x, reg.predict(phi), linewidth=3, color='orange', label='predict', alpha=0.5)\n",
    "ax_reg.legend()\n",
    "fig_reg.suptitle('Linear Regression')\n",
    "plt.show()\n",
    "print(\"Score: %f\" % reg.score(phi, y))"
   ]
  },
  {
   "cell_type": "markdown",
   "id": "associate-viewer",
   "metadata": {},
   "source": [
    "**Conclusions & Remarks:** \n",
    "* We see that the global fit works very well on both the training and the test set. Unsurprisingly, the regression with polynomial features can capture the data quite well despite the added Gaussian noise. This holds in general: Whenever the underlying functional relationship $f$ is globally a polynomial of the same degree as the linear hypothesis, we usually obtain a good fit.\n",
    "* While the initial global fit has a relatively high computational effort, evaluating the fitted regression on new data is quite cheap."
   ]
  },
  {
   "cell_type": "markdown",
   "id": "loose-belize",
   "metadata": {},
   "source": [
    "## Example 2: Sine Function"
   ]
  },
  {
   "cell_type": "markdown",
   "id": "fleet-movement",
   "metadata": {},
   "source": [
    "Now, let us consider the example $f(x)=\\sin(x)$, which does not globally behave at all like a polynomial."
   ]
  },
  {
   "cell_type": "code",
   "execution_count": 6,
   "id": "authentic-dominant",
   "metadata": {},
   "outputs": [],
   "source": [
    "n = 250\n",
    "x = np.linspace(-20, 20, n)\n",
    "np.random.seed(1)\n",
    "e = np.random.normal(0, 0.1, n)\n",
    "y_sine = np.sin(x) + e\n",
    "X_sine = x[:,np.newaxis]"
   ]
  },
  {
   "cell_type": "code",
   "execution_count": 7,
   "id": "headed-synthesis",
   "metadata": {},
   "outputs": [],
   "source": [
    "lr_preds = {}\n",
    "lr_scores = {}\n",
    "d_max = 11\n",
    "for d in range(1, d_max):\n",
    "    poly = PolynomialFeatures(degree=d, include_bias=False) \n",
    "    phi = poly.fit_transform(X_sine)\n",
    "    reg = LinearRegression(fit_intercept=False).fit(phi,y_sine)\n",
    "    lr_preds[d] = reg.predict(phi)\n",
    "    lr_scores[d] = reg.score(phi, y_sine)"
   ]
  },
  {
   "cell_type": "code",
   "execution_count": 8,
   "id": "downtown-packing",
   "metadata": {},
   "outputs": [
    {
     "name": "stderr",
     "output_type": "stream",
     "text": [
      "D:\\Apps\\Anaconda3\\envs\\heroku\\lib\\site-packages\\matplotlib\\__init__.py:942: MatplotlibDeprecationWarning: nbagg.transparent is deprecated and ignored. Use figure.facecolor instead.\n",
      "  mplDeprecation)\n"
     ]
    },
    {
     "data": {
      "application/vnd.jupyter.widget-view+json": {
       "model_id": "f4486da21ebe41109fee439f905d417f",
       "version_major": 2,
       "version_minor": 0
      },
      "text/plain": [
       "Canvas(toolbar=Toolbar(toolitems=[('Home', 'Reset original view', 'home', 'home'), ('Back', 'Back to  previous…"
      ]
     },
     "metadata": {},
     "output_type": "display_data"
    },
    {
     "data": {
      "application/vnd.jupyter.widget-view+json": {
       "model_id": "1e86318a423947449e42d76a25192841",
       "version_major": 2,
       "version_minor": 0
      },
      "text/plain": [
       "interactive(children=(IntSlider(value=4, description='d', max=10, min=1), Output()), _dom_classes=('widget-int…"
      ]
     },
     "metadata": {},
     "output_type": "display_data"
    }
   ],
   "source": [
    "fig_sine, ax_sine = plt.subplots()\n",
    "fig_sine.suptitle('Linear Regression')\n",
    "\n",
    "@wdg.interact()\n",
    "def plot_sine(d=wdg.IntSlider(min=1, max=10, value=4)):\n",
    "    ax_sine.cla()\n",
    "    ax_sine.scatter(x, y_sine, color='b', label='train')\n",
    "    ax_sine.plot(x, np.sin(x), color='r', label='truth')\n",
    "    ax_sine.plot(x, lr_preds[d], color='orange', linewidth=3, label='predict', alpha=0.5)\n",
    "    ax_sine.legend()\n",
    "    ax_sine.set_ylim([-1.1, 1.1])\n",
    "    print(\"Score: %f\" % lr_scores[d])"
   ]
  },
  {
   "cell_type": "markdown",
   "id": "italian-exposure",
   "metadata": {},
   "source": [
    "**Conclusion:** We condlude that even with crazy high degrees, the polynomial regression does not capture the function $f(x)=\\sin(x)$ very well. That is because $\\sin(x)$ is not a polynomial in itself and globally not close to one. One can represent it as a power series, i.e. one can think of it as the polynomial with infinite degree\n",
    "\\begin{align*}\n",
    "    f(x) = \\sin(x) = \\sum_{n=0}^{\\infty}{\\frac{(-1)^n}{(2n +1)!}x^{2n + 1}}.\n",
    "\\end{align*}"
   ]
  },
  {
   "cell_type": "markdown",
   "id": "eleven-metro",
   "metadata": {},
   "source": [
    "# Local Regression"
   ]
  },
  {
   "cell_type": "markdown",
   "id": "satisfactory-prairie",
   "metadata": {},
   "source": [
    "## Mathematical Derivation"
   ]
  },
  {
   "cell_type": "markdown",
   "id": "nervous-lender",
   "metadata": {},
   "source": [
    "The idea of local regression is to acknowledge that not every function $f$ behaves gobally like a polynomial. However, if $f$ is differentiable, then $f$ behaves like a polynomial *locally*. In fact, one of the definitions of differentiability is that near a point $x$, the function $f$ can be approximated well by a line. If $f$ is differentiable of higher order, it can be approximated even better by polynomials of higher degree. The precise mathematical formulation of this is \n",
    "\n",
    "**Taylor's Theroem:** Let $f:U \\subset \\mathbb{R}^d \\to \\mathbb{R}$ be a function and let $f$ be differentiable at $x \\in U$ of order $p$. Then the *Taylor polynomial of $f$ at $x$ of degree $p$*\n",
    "\\begin{align*}\n",
    "    T[f; x; p](a) := \\sum_{|\\alpha| \\leq p}{\\frac{\\partial^{\\alpha}f(x)}{\\alpha!}(a-x)^{\\alpha}}\n",
    "\\end{align*}\n",
    "has the property that the error satisfies\n",
    "\\begin{align*}\n",
    "    f - T[f; x; p] \\in \\mathcal{o}(\\|a-x\\|^{p}), && a \\to x.\n",
    "\\end{align*}\n",
    "\n",
    "This means that any multivariate function $f$, which is differentiable of order $p$ can be approximated well *locally* by a polynomial of degree $p$."
   ]
  },
  {
   "cell_type": "markdown",
   "id": "funky-turkish",
   "metadata": {},
   "source": [
    "This fact can be exploited for regression as follows: Assume that we are given $x_i \\in \\mathbb{R}^d$, $y_i \\in \\mathbb{R}$, $i=1, \\ldots, N$ and we assume \n",
    "\\begin{align*}\n",
    "    y_i = f(x_i) + \\varepsilon_i\n",
    "\\end{align*}\n",
    "as above with the additional requirement that $f$ is differentiable of order $p$. Now, we want to make a prediction $f(x)$. First, we replace $f$ by its Taylor polynomial $T[f; x; p]$. The problem is that the coefficients of that polynomial require the knowledge of $\\partial^{\\alpha}f(x)$, which is not available as $f$ is not available. However, we can simply set $\\frac{\\partial^{\\alpha}f(x)}{\\alpha!} =:\\beta_{\\alpha}$ and now attempt to determine these coefficients $\\beta_{\\alpha}$ via least squares regression."
   ]
  },
  {
   "cell_type": "markdown",
   "id": "sized-enzyme",
   "metadata": {},
   "source": [
    "**Cost Functional:** The regression is set up by defining the cost functional\n",
    "\\begin{align*}\n",
    "    J[f; x; p](\\beta) &:= \\sum_{i=1}^{N}{(T[f; x; p](x_i) - y_i)^2 w_i}\n",
    "    = \\sum_{i=1}^{N}{\\Big(\\beta_0 - y_i + \\sum_{1 \\leq |\\alpha| \\leq p}{\\beta_\\alpha(x_i-x)^{\\alpha}}\\Big)^2 w_i}\n",
    "\\end{align*}\n",
    "and we determine the $\\beta=(\\beta_{\\alpha})_{|\\alpha| \\leq p}$ by minimizing this cost functional. \n",
    "\n",
    "A few remarks are in order:\n",
    "* The cost functional $J$ is obtained by expanding $f$ into its Taylor polynomial $T[f; x; p]$ and evaluating this for all the $x_i$ and compute the quadratic error to the $y_i$.\n",
    "* Because Taylor's theorem asserts that $T[f; x; p]$ is a good approximation of $f$ near $x$, we have to add weights $w_i$ to the cost functional that ensure that a lot of weight is given to $x_i$'s near $x$ and little weight is given to $x_i$'s far away from $x$. One common way to choose the weights systematically is via kernel functions given below.\n",
    "* Assuming we obtain a good local fit by minimizing this cost functional, we have $f(x) = T[f; x; p](x) \\approx \\beta_0$. This means that while for the fit all the coefficients $\\beta_{\\alpha}$ are needed, only $\\beta_0$ is needed for the prediction."
   ]
  },
  {
   "cell_type": "markdown",
   "id": "prescription-revelation",
   "metadata": {},
   "source": [
    "## Choice of Weights & Kernel Function"
   ]
  },
  {
   "cell_type": "markdown",
   "id": "latter-depression",
   "metadata": {},
   "source": [
    "A popular choice of weights $w_i$ is by means of a *kernel function* $K:\\mathbb{R}^d \\to \\mathbb{R}$, the most popular one being the *exponential kernel* $K(z) = \\exp(-\\|z\\|^2/2)$. One can scale kernel functions by a *bandwidth* $h > 0 $ via $K_h(z) := h^{-d} K(z/h)$ and for some fixed choice of $h$, one then sets the weights as\n",
    "\\begin{align*}\n",
    "    w_i := K_h(x-x_i).\n",
    "\\end{align*}\n",
    "This ensures that for $x_i$ close to $x$ the corresponding summand in the cost functional results in a high penalty, while for $x_i$ far away from $x$, the contribution is small."
   ]
  },
  {
   "cell_type": "markdown",
   "id": "ruled-boring",
   "metadata": {},
   "source": [
    "## Choice of Bandwidth"
   ]
  },
  {
   "cell_type": "markdown",
   "id": "recreational-pontiac",
   "metadata": {},
   "source": [
    "While in theory it is possible to compute the optimal bandwidth, this is difficult in practice. A popular choice of bandwidth is [Silverman's rule of thumb](https://en.wikipedia.org/wiki/Kernel_density_estimation#A_rule-of-thumb_bandwidth_estimator)\n",
    "\\begin{align*}\n",
    "    h := \\Big(\\frac{4}{3 N} \\Big)^{\\tfrac{1}{5}} \\hat \\sigma_Y,\n",
    "\\end{align*}\n",
    "where $\\hat \\sigma_Y$ is the empiricial standard deviation in the $y_i$."
   ]
  },
  {
   "cell_type": "markdown",
   "id": "worldwide-proposition",
   "metadata": {},
   "source": [
    "## Normal Equation & Analytic Solutions"
   ]
  },
  {
   "cell_type": "markdown",
   "id": "nominated-concrete",
   "metadata": {},
   "source": [
    "Just like for linear regression, the solution $\\beta^*$ of the minimization of the cost functional satisfies a normal equation: If we denote by $\\Phi(x) = (x^\\alpha)_{|\\alpha| \\leq p} \\in \\mathbb{R}^{m}$, $m := m(p,d) = \\tfrac{1-d^p}{1-d}$, the extracted polynomial features and by $X = (\\Phi(x_i))_{i=1, \\ldots, N} \\in \\mathbb{R}^{N \\times m}$ the design matrix and set $W := \\operatorname{diag}(w_i)_{i=1, \\ldots, N} \\in \\mathbb{R}^{N \\times N}$, then the cost functional $J:\\mathbb{R}^m \\to \\mathbb{R}$ can be written as\n",
    "\\begin{align*}\n",
    "    J(\\beta) = \\| W^{1/2}(X \\beta - y)\\|_2^2\n",
    "\\end{align*}\n",
    "and its minimum $\\beta^*$ is attained at\n",
    "\\begin{align*}\n",
    "    (W^{1/2}X)^\\top W^{1/2} X \\beta^* = X^T W^{1/2} W^{1/2} y\n",
    "\\end{align*}\n",
    "Thus, as an alternative to minimizing the cost functional with an iterative method, one can also solve the normal equations, for example using a QR-decomposition. In that case, we set $Q R = A:= W^{1/2} X$, where $Q \\in \\mathbb{R}^{N \\times N}$ is orthogonal and $R = (\\bar R, 0)^\\top \\in \\mathbb{R}^{N \\times m}$ is a lower rectangular matrix and we assume that the input data allows for $\\bar R \\in \\mathbb{R}^{m \\times m}$ to be invertible. Setting $c$ to be the first $m$ entries of $W^{1/2} y$, we find that $\\bar R \\beta^* = c$, which can be efficiently solved using a backwards recursion scheme.\n",
    "\n",
    "For low degrees, i.e. $p=0,1$, one can also solve the normal equations analytically. The prediction at $x$ can be computed via\n",
    "\\begin{align}\n",
    "    \\sum_{i=1}^{N}{W_i^p(x) y_i},\n",
    "\\end{align}\n",
    "where\n",
    "\\begin{align*}\n",
    "    W_i^0(x) := \\frac{K_h(x - x_i)}{\\sum_{j=1}^{N}{K_h(x-x_j)}}, &&\n",
    "    W_i^1(x) := \\frac{1}{N} \\frac{\\hat s_2(x) - \\hat s_1(x)(x-x_i)}{\\hat s_2(x)s_0(x)-\\hat s_1(x)^2} K_h(x-x_i).\n",
    "\\end{align*}\n",
    "Here, we denote $s_r(x) := \\frac{1}{N} \\sum_{i=1}^{N}{(x-x_i)^rK_h(x-x_i)}$. The case $p=0$ is called *Nadaraya-Watson regression* and $p=1$ is called *locally linear regression*."
   ]
  },
  {
   "cell_type": "markdown",
   "id": "blessed-hungary",
   "metadata": {},
   "source": [
    "## Example 3: Sine Function"
   ]
  },
  {
   "cell_type": "code",
   "execution_count": 9,
   "id": "continental-stereo",
   "metadata": {},
   "outputs": [],
   "source": [
    "locregnw = LocalRegression(degree=0).fit(X_sine, y_sine)\n",
    "locregll = LocalRegression(degree=1).fit(X_sine, y_sine)\n",
    "locreg_preds = {0: locregnw.predict(X_sine),\n",
    "                1: locregll.predict(X_sine)}\n",
    "locreg_scores = {0: locregnw.score(X_sine, y_sine),\n",
    "                 1: locregll.score(X_sine, y_sine)}"
   ]
  },
  {
   "cell_type": "code",
   "execution_count": 10,
   "id": "alleged-denver",
   "metadata": {},
   "outputs": [
    {
     "name": "stderr",
     "output_type": "stream",
     "text": [
      "D:\\Apps\\Anaconda3\\envs\\heroku\\lib\\site-packages\\matplotlib\\__init__.py:942: MatplotlibDeprecationWarning: nbagg.transparent is deprecated and ignored. Use figure.facecolor instead.\n",
      "  mplDeprecation)\n"
     ]
    },
    {
     "data": {
      "application/vnd.jupyter.widget-view+json": {
       "model_id": "af78eb8349d441cd99d9d5e31462730c",
       "version_major": 2,
       "version_minor": 0
      },
      "text/plain": [
       "Canvas(toolbar=Toolbar(toolitems=[('Home', 'Reset original view', 'home', 'home'), ('Back', 'Back to  previous…"
      ]
     },
     "metadata": {},
     "output_type": "display_data"
    },
    {
     "data": {
      "application/vnd.jupyter.widget-view+json": {
       "model_id": "842c24f409f241eeb98f10a56194ff54",
       "version_major": 2,
       "version_minor": 0
      },
      "text/plain": [
       "interactive(children=(IntSlider(value=2, description='Degree Linear Regression', max=11, min=1), IntSlider(val…"
      ]
     },
     "metadata": {},
     "output_type": "display_data"
    }
   ],
   "source": [
    "fig_sine_locreg, ax_sine_locreg = plt.subplots()\n",
    "fig_sine_locreg.suptitle('Linear vs. Local Regression')\n",
    "\n",
    "@wdg.interact()\n",
    "def plot_sine(d_lin=wdg.IntSlider(min=1, max=d_max, value=2, description='Degree Linear Regression'),\n",
    "              d_loc=wdg.IntSlider(min=0, max=1, value=0, description='Degree Local Regression')):\n",
    "    ax_sine_locreg.cla()\n",
    "    ax_sine_locreg.scatter(x, y_sine, color='b', label='train')\n",
    "    ax_sine_locreg.plot(x, np.sin(x), color='k', label='truth')\n",
    "    ax_sine_locreg.plot(x, lr_preds[d_lin], color='orange', linewidth=3, label='predict linear', alpha=0.5)\n",
    "    ax_sine_locreg.plot(x, locreg_preds[d_loc], color='g', linewidth=3, label='predict local', alpha=0.5)\n",
    "    ax_sine_locreg.legend()\n",
    "    plt.show()\n",
    "    print(\"Score Linear Regression: %f\" % lr_scores[d_lin])\n",
    "    print(\"Score Local Regression: %f\" % locreg_scores[d_loc])"
   ]
  },
  {
   "cell_type": "markdown",
   "id": "hazardous-lewis",
   "metadata": {},
   "source": [
    "## Example 4: Multivariate Sines"
   ]
  },
  {
   "cell_type": "markdown",
   "id": "nominated-colombia",
   "metadata": {},
   "source": [
    "We now illustrate that local regression also works in higher dimensions. In this example, we consider the function $f(x_1, x_2) = \\sin(x_1) \\sin(x_2)$."
   ]
  },
  {
   "cell_type": "code",
   "execution_count": 11,
   "id": "operating-catch",
   "metadata": {},
   "outputs": [],
   "source": [
    "n=20\n",
    "x1 = np.linspace(-5,5,n)\n",
    "x2 = np.linspace(-5,5,n)\n",
    "e = np.random.normal(0, 0.01, (n, n))\n",
    "y = np.array([[np.sin(xx1)*np.sin(xx2) for xx1 in x1] for xx2 in x2])\n",
    "y_sine_3d = y + e\n",
    "x1, x2 = np.meshgrid(x1, x2)\n",
    "X_sine3d = np.array(list(zip(x1.flatten(), x2.flatten())))"
   ]
  },
  {
   "cell_type": "code",
   "execution_count": 12,
   "id": "front-ribbon",
   "metadata": {},
   "outputs": [],
   "source": [
    "locreg3d = LocalRegression(degree=0).fit(X_sine3d, y_sine_3d.flatten())\n",
    "y_pred_3d = locreg3d.predict(X_sine3d, method='qr')"
   ]
  },
  {
   "cell_type": "code",
   "execution_count": 13,
   "id": "rental-fisher",
   "metadata": {},
   "outputs": [
    {
     "name": "stderr",
     "output_type": "stream",
     "text": [
      "D:\\Apps\\Anaconda3\\envs\\heroku\\lib\\site-packages\\matplotlib\\__init__.py:942: MatplotlibDeprecationWarning: nbagg.transparent is deprecated and ignored. Use figure.facecolor instead.\n",
      "  mplDeprecation)\n"
     ]
    },
    {
     "data": {
      "application/vnd.jupyter.widget-view+json": {
       "model_id": "c3c3cb72c7ba4ef89741f677113ac93d",
       "version_major": 2,
       "version_minor": 0
      },
      "text/plain": [
       "Canvas(toolbar=Toolbar(toolitems=[('Home', 'Reset original view', 'home', 'home'), ('Back', 'Back to  previous…"
      ]
     },
     "metadata": {},
     "output_type": "display_data"
    }
   ],
   "source": [
    "plt.figure()\n",
    "ax = plt.axes(projection='3d')\n",
    "ax.scatter(x1, x2, y_sine_3d, color='b', label='train')\n",
    "surf = ax.plot_surface(x1, x2, y_sine_3d, color='k', label='truth', alpha=0.3)\n",
    "surf._facecolors2d=surf._facecolors3d\n",
    "surf._edgecolors2d=surf._edgecolors3d\n",
    "surf = ax.plot_surface(x1, x2, y_pred_3d.reshape(n, n), color='g', label='predict', alpha=0.5)\n",
    "surf._facecolors2d=surf._facecolors3d\n",
    "surf._edgecolors2d=surf._edgecolors3d\n",
    "ax.set_xlabel('x1')\n",
    "ax.set_ylabel('x2')\n",
    "ax.set_zlabel('y')\n",
    "ax.legend()\n",
    "plt.show()"
   ]
  },
  {
   "cell_type": "code",
   "execution_count": 14,
   "id": "metallic-luxury",
   "metadata": {},
   "outputs": [
    {
     "data": {
      "text/plain": [
       "0.9999769805807223"
      ]
     },
     "execution_count": 14,
     "metadata": {},
     "output_type": "execute_result"
    }
   ],
   "source": [
    "locreg3d.score(X_sine3d, y_sine_3d.flatten())"
   ]
  }
 ],
 "metadata": {
  "kernelspec": {
   "display_name": "heroku",
   "language": "python",
   "name": "heroku"
  },
  "language_info": {
   "codemirror_mode": {
    "name": "ipython",
    "version": 3
   },
   "file_extension": ".py",
   "mimetype": "text/x-python",
   "name": "python",
   "nbconvert_exporter": "python",
   "pygments_lexer": "ipython3",
   "version": "3.6.12"
  },
  "toc": {
   "base_numbering": 1,
   "nav_menu": {},
   "number_sections": true,
   "sideBar": true,
   "skip_h1_title": false,
   "title_cell": "Table of Contents",
   "title_sidebar": "Contents",
   "toc_cell": false,
   "toc_position": {},
   "toc_section_display": true,
   "toc_window_display": false
  }
 },
 "nbformat": 4,
 "nbformat_minor": 5
}
